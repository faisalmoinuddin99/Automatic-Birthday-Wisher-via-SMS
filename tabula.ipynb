{
  "nbformat": 4,
  "nbformat_minor": 0,
  "metadata": {
    "colab": {
      "name": "tabula.ipynb",
      "provenance": [],
      "authorship_tag": "ABX9TyMJNVhJnXWLYbTEnxeKlAzI",
      "include_colab_link": true
    },
    "kernelspec": {
      "name": "python3",
      "display_name": "Python 3"
    },
    "accelerator": "GPU"
  },
  "cells": [
    {
      "cell_type": "markdown",
      "metadata": {
        "id": "view-in-github",
        "colab_type": "text"
      },
      "source": [
        "<a href=\"https://colab.research.google.com/github/faisalmoinuddin99/Automatic-Birthday-Wisher-via-SMS/blob/master/tabula.ipynb\" target=\"_parent\"><img src=\"https://colab.research.google.com/assets/colab-badge.svg\" alt=\"Open In Colab\"/></a>"
      ]
    },
    {
      "cell_type": "code",
      "metadata": {
        "colab": {
          "base_uri": "https://localhost:8080/"
        },
        "id": "BC-0kWMbzTz4",
        "outputId": "599aee4c-740e-43af-dfcb-df1403398260"
      },
      "source": [
        "!apt-get install poppler-utils"
      ],
      "execution_count": 1,
      "outputs": [
        {
          "output_type": "stream",
          "text": [
            "Reading package lists... Done\n",
            "Building dependency tree       \n",
            "Reading state information... Done\n",
            "The following NEW packages will be installed:\n",
            "  poppler-utils\n",
            "0 upgraded, 1 newly installed, 0 to remove and 14 not upgraded.\n",
            "Need to get 154 kB of archives.\n",
            "After this operation, 613 kB of additional disk space will be used.\n",
            "Get:1 http://archive.ubuntu.com/ubuntu bionic-updates/main amd64 poppler-utils amd64 0.62.0-2ubuntu2.12 [154 kB]\n",
            "Fetched 154 kB in 1s (168 kB/s)\n",
            "Selecting previously unselected package poppler-utils.\n",
            "(Reading database ... 144865 files and directories currently installed.)\n",
            "Preparing to unpack .../poppler-utils_0.62.0-2ubuntu2.12_amd64.deb ...\n",
            "Unpacking poppler-utils (0.62.0-2ubuntu2.12) ...\n",
            "Setting up poppler-utils (0.62.0-2ubuntu2.12) ...\n",
            "Processing triggers for man-db (2.8.3-2ubuntu0.1) ...\n"
          ],
          "name": "stdout"
        }
      ]
    },
    {
      "cell_type": "code",
      "metadata": {
        "colab": {
          "base_uri": "https://localhost:8080/"
        },
        "id": "nUHlV9yNTOJo",
        "outputId": "b2584b1d-0f20-4afc-aa53-a12871fbabd7"
      },
      "source": [
        "!pip install pdf2image\r\n",
        "!pip install easyocr"
      ],
      "execution_count": 2,
      "outputs": [
        {
          "output_type": "stream",
          "text": [
            "Collecting pdf2image\n",
            "  Downloading https://files.pythonhosted.org/packages/03/62/089030fd16ab3e5c245315d63c80b29250b8f9e4579b5a09306eb7e7539c/pdf2image-1.14.0-py3-none-any.whl\n",
            "Requirement already satisfied: pillow in /usr/local/lib/python3.6/dist-packages (from pdf2image) (7.0.0)\n",
            "Installing collected packages: pdf2image\n",
            "Successfully installed pdf2image-1.14.0\n",
            "Collecting easyocr\n",
            "\u001b[?25l  Downloading https://files.pythonhosted.org/packages/71/49/40e21dec1e05213bde222b7132d26556a6f811a93e6b4547f50de5254d0a/easyocr-1.2.1-py3-none-any.whl (57.2MB)\n",
            "\u001b[K     |████████████████████████████████| 57.2MB 57kB/s \n",
            "\u001b[?25hRequirement already satisfied: torch in /usr/local/lib/python3.6/dist-packages (from easyocr) (1.7.0+cu101)\n",
            "Requirement already satisfied: Pillow in /usr/local/lib/python3.6/dist-packages (from easyocr) (7.0.0)\n",
            "Requirement already satisfied: torchvision>=0.5 in /usr/local/lib/python3.6/dist-packages (from easyocr) (0.8.1+cu101)\n",
            "Requirement already satisfied: opencv-python in /usr/local/lib/python3.6/dist-packages (from easyocr) (4.1.2.30)\n",
            "Requirement already satisfied: scikit-image in /usr/local/lib/python3.6/dist-packages (from easyocr) (0.16.2)\n",
            "Requirement already satisfied: numpy in /usr/local/lib/python3.6/dist-packages (from easyocr) (1.18.5)\n",
            "Requirement already satisfied: scipy in /usr/local/lib/python3.6/dist-packages (from easyocr) (1.4.1)\n",
            "Collecting python-bidi\n",
            "  Downloading https://files.pythonhosted.org/packages/33/b0/f942d146a2f457233baaafd6bdf624eba8e0f665045b4abd69d1b62d097d/python_bidi-0.4.2-py2.py3-none-any.whl\n",
            "Requirement already satisfied: dataclasses in /usr/local/lib/python3.6/dist-packages (from torch->easyocr) (0.8)\n",
            "Requirement already satisfied: typing-extensions in /usr/local/lib/python3.6/dist-packages (from torch->easyocr) (3.7.4.3)\n",
            "Requirement already satisfied: future in /usr/local/lib/python3.6/dist-packages (from torch->easyocr) (0.16.0)\n",
            "Requirement already satisfied: matplotlib!=3.0.0,>=2.0.0 in /usr/local/lib/python3.6/dist-packages (from scikit-image->easyocr) (3.2.2)\n",
            "Requirement already satisfied: networkx>=2.0 in /usr/local/lib/python3.6/dist-packages (from scikit-image->easyocr) (2.5)\n",
            "Requirement already satisfied: imageio>=2.3.0 in /usr/local/lib/python3.6/dist-packages (from scikit-image->easyocr) (2.4.1)\n",
            "Requirement already satisfied: PyWavelets>=0.4.0 in /usr/local/lib/python3.6/dist-packages (from scikit-image->easyocr) (1.1.1)\n",
            "Requirement already satisfied: six in /usr/local/lib/python3.6/dist-packages (from python-bidi->easyocr) (1.15.0)\n",
            "Requirement already satisfied: pyparsing!=2.0.4,!=2.1.2,!=2.1.6,>=2.0.1 in /usr/local/lib/python3.6/dist-packages (from matplotlib!=3.0.0,>=2.0.0->scikit-image->easyocr) (2.4.7)\n",
            "Requirement already satisfied: cycler>=0.10 in /usr/local/lib/python3.6/dist-packages (from matplotlib!=3.0.0,>=2.0.0->scikit-image->easyocr) (0.10.0)\n",
            "Requirement already satisfied: python-dateutil>=2.1 in /usr/local/lib/python3.6/dist-packages (from matplotlib!=3.0.0,>=2.0.0->scikit-image->easyocr) (2.8.1)\n",
            "Requirement already satisfied: kiwisolver>=1.0.1 in /usr/local/lib/python3.6/dist-packages (from matplotlib!=3.0.0,>=2.0.0->scikit-image->easyocr) (1.3.1)\n",
            "Requirement already satisfied: decorator>=4.3.0 in /usr/local/lib/python3.6/dist-packages (from networkx>=2.0->scikit-image->easyocr) (4.4.2)\n",
            "Installing collected packages: python-bidi, easyocr\n",
            "Successfully installed easyocr-1.2.1 python-bidi-0.4.2\n"
          ],
          "name": "stdout"
        }
      ]
    },
    {
      "cell_type": "code",
      "metadata": {
        "id": "BgDmDK5OTTNT"
      },
      "source": [
        "from pdf2image import convert_from_path\r\n",
        "import easyocr\r\n",
        "import numpy as np\r\n",
        "import PIL\r\n",
        "from PIL import ImageDraw\r\n",
        "import spacy\r\n",
        "import cv2 \r\n"
      ],
      "execution_count": 3,
      "outputs": []
    },
    {
      "cell_type": "code",
      "metadata": {
        "id": "4KXf-z3XTW8X",
        "colab": {
          "base_uri": "https://localhost:8080/"
        },
        "outputId": "71b59baa-d5d9-4c6f-f749-aa1f6db78646"
      },
      "source": [
        "reader = easyocr.Reader(['en','mr'])"
      ],
      "execution_count": 4,
      "outputs": [
        {
          "output_type": "stream",
          "text": [
            "Downloading detection model, please wait. This may take several minutes depending upon your network connection.\n"
          ],
          "name": "stderr"
        },
        {
          "output_type": "stream",
          "text": [
            ""
          ],
          "name": "stdout"
        },
        {
          "output_type": "stream",
          "text": [
            "Downloading recognition model, please wait. This may take several minutes depending upon your network connection.\n"
          ],
          "name": "stderr"
        },
        {
          "output_type": "stream",
          "text": [
            ""
          ],
          "name": "stdout"
        }
      ]
    },
    {
      "cell_type": "code",
      "metadata": {
        "id": "u2-MxuT1TYG2"
      },
      "source": [
        "images = convert_from_path('10_Satbara.pdf',    first_page=None, fmt=\"tiff\")\r\n",
        "from IPython.display import display, Image\r\n",
        "\r\n",
        "display(images[0])    \r\n",
        "images[0].save('10_Satbara.jpg', 'JPEG')"
      ],
      "execution_count": null,
      "outputs": []
    },
    {
      "cell_type": "code",
      "metadata": {
        "colab": {
          "base_uri": "https://localhost:8080/"
        },
        "id": "dR2pzLd2T1Sd",
        "outputId": "ef530915-7fad-4761-a015-0f59c0aa38ca"
      },
      "source": [
        "path = '10_Satbara.jpg'\r\n",
        "img = cv2.imread(path)\r\n",
        "print(img.shape)"
      ],
      "execution_count": 6,
      "outputs": [
        {
          "output_type": "stream",
          "text": [
            "(2200, 1709, 3)\n"
          ],
          "name": "stdout"
        }
      ]
    },
    {
      "cell_type": "code",
      "metadata": {
        "colab": {
          "base_uri": "https://localhost:8080/"
        },
        "id": "S-SLuNhHXu7M",
        "outputId": "f70544e8-830f-4ec3-9d82-0b381537ad02"
      },
      "source": [
        "width, height = 1403,1100\r\n",
        "\r\n",
        "imgResize = cv2.resize(img,(width,height))\r\n",
        "print(imgResize.shape)"
      ],
      "execution_count": 7,
      "outputs": [
        {
          "output_type": "stream",
          "text": [
            "(1100, 1403, 3)\n"
          ],
          "name": "stdout"
        }
      ]
    },
    {
      "cell_type": "code",
      "metadata": {
        "id": "VO1hQkZ0gZPe"
      },
      "source": [
        "from google.colab.patches import cv2_imshow"
      ],
      "execution_count": 8,
      "outputs": []
    },
    {
      "cell_type": "code",
      "metadata": {
        "id": "C8AgqiWIggGq"
      },
      "source": [
        "cv2_imshow(img)"
      ],
      "execution_count": null,
      "outputs": []
    },
    {
      "cell_type": "code",
      "metadata": {
        "id": "i0Wq_-yqg-Qu"
      },
      "source": [
        "cv2_imshow(imgResize)"
      ],
      "execution_count": null,
      "outputs": []
    },
    {
      "cell_type": "markdown",
      "metadata": {
        "id": "tUsOFSYehx7a"
      },
      "source": [
        "**Cropping the Image Now**"
      ]
    },
    {
      "cell_type": "code",
      "metadata": {
        "id": "w7AvTi8Bh6BU"
      },
      "source": [
        "# imgCropped = img[ 980:2200,0:1709]\r\n",
        "imgCropped = img[ 513:1905,45:361]"
      ],
      "execution_count": 113,
      "outputs": []
    },
    {
      "cell_type": "code",
      "metadata": {
        "id": "7s9TcS1QFFuz"
      },
      "source": [
        "cv2_imshow(imgCropped)\r\n"
      ],
      "execution_count": null,
      "outputs": []
    },
    {
      "cell_type": "code",
      "metadata": {
        "colab": {
          "base_uri": "https://localhost:8080/"
        },
        "id": "axhR5qY_1baF",
        "outputId": "b62ef0d8-4462-4fb7-d21f-355c4e3ed992"
      },
      "source": [
        "cv2.imwrite('left-side.jpg', imgCropped)"
      ],
      "execution_count": 121,
      "outputs": [
        {
          "output_type": "execute_result",
          "data": {
            "text/plain": [
              "True"
            ]
          },
          "metadata": {
            "tags": []
          },
          "execution_count": 121
        }
      ]
    },
    {
      "cell_type": "code",
      "metadata": {
        "id": "3r6tut8T1bby"
      },
      "source": [
        ""
      ],
      "execution_count": null,
      "outputs": []
    },
    {
      "cell_type": "code",
      "metadata": {
        "id": "36ck-WbQGt3u"
      },
      "source": [
        "bounds = reader.readtext(np.array(imgCropped), contrast_ths=0.05, adjust_contrast=0.7, add_margin=0.45,  width_ths=0.8, decoder='beamsearch')\r\n",
        "bounds"
      ],
      "execution_count": null,
      "outputs": []
    },
    {
      "cell_type": "code",
      "metadata": {
        "id": "G8w7vyEdF6Kp"
      },
      "source": [
        "def draw_boxes(image, bounds, color='red', width = 2):\r\n",
        "  draw = ImageDraw.Draw(image)\r\n",
        "  for bound in bounds:\r\n",
        "    p0, p1, p2, p3 = bound[0]\r\n",
        "    draw.line([*p0, *p1, *p2, *p3, *p0], fill = color, width= width)\r\n",
        "  return image\r\n",
        "\r\n",
        "draw_boxes(images[0], bounds)"
      ],
      "execution_count": null,
      "outputs": []
    },
    {
      "cell_type": "code",
      "metadata": {
        "id": "Vpk8d4JQGLM9"
      },
      "source": [
        "text = ''\r\n",
        "\r\n",
        "for i in range(len(bounds)):\r\n",
        "  text += bounds[i][1] + '\\n'\r\n",
        "\r\n",
        "print(text)"
      ],
      "execution_count": null,
      "outputs": []
    },
    {
      "cell_type": "code",
      "metadata": {
        "id": "uZby0k8a35lH"
      },
      "source": [
        "with open('left-side.txt', 'w', encoding='utf-8') as f:\r\n",
        "  f.write(text)"
      ],
      "execution_count": 124,
      "outputs": []
    },
    {
      "cell_type": "code",
      "metadata": {
        "id": "PNA7YPrK4N5U"
      },
      "source": [
        "contents = open(\"left-side.txt\",\"r\")\r\n",
        "with open(\"left-side.html\", \"w\") as e:\r\n",
        "    for lines in contents.readlines():\r\n",
        "        e.write(\"<pre>\" + lines + \"</pre> <br>\\n\")"
      ],
      "execution_count": 125,
      "outputs": []
    },
    {
      "cell_type": "markdown",
      "metadata": {
        "id": "YLu8pvQN4uOO"
      },
      "source": [
        "**Top Header**"
      ]
    },
    {
      "cell_type": "code",
      "metadata": {
        "id": "UHhFpe9n49R0"
      },
      "source": [
        "imgCropped = img[ 113:435,45:1500]"
      ],
      "execution_count": 166,
      "outputs": []
    },
    {
      "cell_type": "code",
      "metadata": {
        "id": "ZsgGRm6s5Guj"
      },
      "source": [
        "cv2_imshow(imgCropped)"
      ],
      "execution_count": null,
      "outputs": []
    },
    {
      "cell_type": "code",
      "metadata": {
        "colab": {
          "base_uri": "https://localhost:8080/"
        },
        "id": "frlYWpSI6RnA",
        "outputId": "5ec466a3-5aab-47f5-844c-a5e3363f543d"
      },
      "source": [
        "cv2.imwrite('top-side.jpg', imgCropped)"
      ],
      "execution_count": 168,
      "outputs": [
        {
          "output_type": "execute_result",
          "data": {
            "text/plain": [
              "True"
            ]
          },
          "metadata": {
            "tags": []
          },
          "execution_count": 168
        }
      ]
    },
    {
      "cell_type": "code",
      "metadata": {
        "id": "QqW5iplQ6cOk"
      },
      "source": [
        "bounds = reader.readtext(np.array(imgCropped), contrast_ths=0.05, adjust_contrast=0.7, add_margin=0.45,  width_ths=0.8, decoder='beamsearch')\r\n",
        "bounds"
      ],
      "execution_count": null,
      "outputs": []
    },
    {
      "cell_type": "code",
      "metadata": {
        "id": "_JU2XvGJ6pr0"
      },
      "source": [
        "text = ''\r\n",
        "\r\n",
        "for i in range(len(bounds)):\r\n",
        "  text += bounds[i][1] + '\\n'\r\n",
        "\r\n",
        "print(text)"
      ],
      "execution_count": null,
      "outputs": []
    },
    {
      "cell_type": "code",
      "metadata": {
        "id": "aE0tfgMW6xfT"
      },
      "source": [
        "with open('top-side.txt', 'w', encoding='utf-8') as f:\r\n",
        "  f.write(text)"
      ],
      "execution_count": 173,
      "outputs": []
    },
    {
      "cell_type": "code",
      "metadata": {
        "id": "twtz-coo67Y4"
      },
      "source": [
        "contents = open(\"top-side.txt\",\"r\")\r\n",
        "with open(\"top-side.html\", \"w\") as e:\r\n",
        "    for lines in contents.readlines():\r\n",
        "        e.write(\"<pre>\" + lines + \"</pre> <br>\\n\")"
      ],
      "execution_count": 174,
      "outputs": []
    },
    {
      "cell_type": "markdown",
      "metadata": {
        "id": "_0ybBj9u7Th4"
      },
      "source": [
        "**Center-side**"
      ]
    },
    {
      "cell_type": "code",
      "metadata": {
        "id": "-bR0-wq97eAC"
      },
      "source": [
        "imgCropped = img[ 513:1905,360:1197]\r\n"
      ],
      "execution_count": 225,
      "outputs": []
    },
    {
      "cell_type": "code",
      "metadata": {
        "id": "EH0tDIsh7ps2"
      },
      "source": [
        "cv2_imshow(imgCropped)\r\n"
      ],
      "execution_count": null,
      "outputs": []
    },
    {
      "cell_type": "code",
      "metadata": {
        "colab": {
          "base_uri": "https://localhost:8080/"
        },
        "id": "aUHfioWH9muZ",
        "outputId": "a686d6e6-da82-41f5-bd65-a2d9a162f4a5"
      },
      "source": [
        "cv2.imwrite('center-side.jpg', imgCropped)"
      ],
      "execution_count": 226,
      "outputs": [
        {
          "output_type": "execute_result",
          "data": {
            "text/plain": [
              "True"
            ]
          },
          "metadata": {
            "tags": []
          },
          "execution_count": 226
        }
      ]
    },
    {
      "cell_type": "code",
      "metadata": {
        "id": "bsdhiMOz9s6W"
      },
      "source": [
        "bounds = reader.readtext(np.array(imgCropped), contrast_ths=0.05, adjust_contrast=0.7, add_margin=0.45,  width_ths=0.8, decoder='beamsearch')\r\n",
        "bounds"
      ],
      "execution_count": null,
      "outputs": []
    },
    {
      "cell_type": "code",
      "metadata": {
        "id": "SeqNgES_9vY1"
      },
      "source": [
        "text = ''\r\n",
        "\r\n",
        "for i in range(len(bounds)):\r\n",
        "  text += bounds[i][1] + '\\n'\r\n",
        "\r\n",
        "print(text)"
      ],
      "execution_count": null,
      "outputs": []
    },
    {
      "cell_type": "code",
      "metadata": {
        "id": "XP05bZIM9zOp"
      },
      "source": [
        "with open('center-side.txt', 'w', encoding='utf-8') as f:\r\n",
        "  f.write(text)"
      ],
      "execution_count": 229,
      "outputs": []
    },
    {
      "cell_type": "code",
      "metadata": {
        "id": "D67V29NK94nK"
      },
      "source": [
        "contents = open(\"center-side.txt\",\"r\")\r\n",
        "with open(\"center-side.html\", \"w\") as e:\r\n",
        "    for lines in contents.readlines():\r\n",
        "        e.write(\"<pre>\" + lines + \"</pre> <br>\\n\")"
      ],
      "execution_count": 230,
      "outputs": []
    },
    {
      "cell_type": "markdown",
      "metadata": {
        "id": "EqR73iPz-Srx"
      },
      "source": [
        "**Right-side**"
      ]
    },
    {
      "cell_type": "code",
      "metadata": {
        "id": "esmeKFW1-Vek"
      },
      "source": [
        " imgCropped = img[ 513:1905,1193:1580]"
      ],
      "execution_count": 261,
      "outputs": []
    },
    {
      "cell_type": "code",
      "metadata": {
        "id": "o1Zlk5Cl-VgH"
      },
      "source": [
        "cv2_imshow(imgCropped)"
      ],
      "execution_count": null,
      "outputs": []
    },
    {
      "cell_type": "code",
      "metadata": {
        "colab": {
          "base_uri": "https://localhost:8080/"
        },
        "id": "INdEAPX3_lz7",
        "outputId": "5485c92b-74c6-4c99-f93f-414eda6da5b7"
      },
      "source": [
        "cv2.imwrite('right-side.jpg', imgCropped)"
      ],
      "execution_count": 263,
      "outputs": [
        {
          "output_type": "execute_result",
          "data": {
            "text/plain": [
              "True"
            ]
          },
          "metadata": {
            "tags": []
          },
          "execution_count": 263
        }
      ]
    },
    {
      "cell_type": "code",
      "metadata": {
        "id": "5nNMQlXr_tqH"
      },
      "source": [
        "bounds = reader.readtext(np.array(imgCropped), contrast_ths=0.05, adjust_contrast=0.7, add_margin=0.45,  width_ths=0.8, decoder='beamsearch')\r\n",
        "bounds"
      ],
      "execution_count": null,
      "outputs": []
    },
    {
      "cell_type": "code",
      "metadata": {
        "id": "pcomogl5_vmQ"
      },
      "source": [
        "text = ''\r\n",
        "\r\n",
        "for i in range(len(bounds)):\r\n",
        "  text += bounds[i][1] + '\\n'\r\n",
        "\r\n",
        "print(text)"
      ],
      "execution_count": null,
      "outputs": []
    },
    {
      "cell_type": "code",
      "metadata": {
        "id": "NwPIbc8X_2hb"
      },
      "source": [
        "with open('right-side.txt', 'w', encoding='utf-8') as f:\r\n",
        "  f.write(text)"
      ],
      "execution_count": 266,
      "outputs": []
    },
    {
      "cell_type": "code",
      "metadata": {
        "id": "3zwYKXbU_9PA"
      },
      "source": [
        "contents = open(\"right-side.txt\",\"r\")\r\n",
        "with open(\"right-side.html\", \"w\") as e:\r\n",
        "    for lines in contents.readlines():\r\n",
        "        e.write(\"<pre>\" + lines + \"</pre> <br>\\n\")"
      ],
      "execution_count": 267,
      "outputs": []
    },
    {
      "cell_type": "markdown",
      "metadata": {
        "id": "Xam3x6LOAZsi"
      },
      "source": [
        "***Middle-Header***"
      ]
    },
    {
      "cell_type": "code",
      "metadata": {
        "id": "n94cYQJrAa06"
      },
      "source": [
        "imgCropped = img[ 430:516,45:1582]"
      ],
      "execution_count": 320,
      "outputs": []
    },
    {
      "cell_type": "code",
      "metadata": {
        "colab": {
          "base_uri": "https://localhost:8080/",
          "height": 123
        },
        "id": "n1brBxFdAmpq",
        "outputId": "9ab858d6-a054-4a80-f8fd-73b0a97c22e0"
      },
      "source": [
        "cv2_imshow(imgCropped)"
      ],
      "execution_count": 321,
      "outputs": [
        {
          "output_type": "display_data",
          "data": {
            "image/png": "[encoded data removed]",
            "text/plain": [
              "<PIL.Image.Image image mode=RGB size=1537x86 at 0x7F20D40E06D8>"
            ]
          },
          "metadata": {
            "tags": []
          }
        }
      ]
    },
    {
      "cell_type": "code",
      "metadata": {
        "colab": {
          "base_uri": "https://localhost:8080/"
        },
        "id": "n_i-cRdWCKUZ",
        "outputId": "ab659778-4dcf-4bb1-d02d-99a7772c62f7"
      },
      "source": [
        "cv2.imwrite('middle-header.jpg', imgCropped)"
      ],
      "execution_count": 322,
      "outputs": [
        {
          "output_type": "execute_result",
          "data": {
            "text/plain": [
              "True"
            ]
          },
          "metadata": {
            "tags": []
          },
          "execution_count": 322
        }
      ]
    },
    {
      "cell_type": "code",
      "metadata": {
        "id": "it_1R0Y1CRtn"
      },
      "source": [
        "bounds = reader.readtext(np.array(imgCropped), contrast_ths=0.05, adjust_contrast=0.7, add_margin=0.45,  width_ths=0.8, decoder='beamsearch')\r\n",
        "bounds"
      ],
      "execution_count": null,
      "outputs": []
    },
    {
      "cell_type": "code",
      "metadata": {
        "colab": {
          "base_uri": "https://localhost:8080/"
        },
        "id": "aENtxRHGCT9S",
        "outputId": "f181e0cc-7f8b-435f-d31d-7a009c4a51b8"
      },
      "source": [
        "text = ''\r\n",
        "\r\n",
        "for i in range(len(bounds)):\r\n",
        "  text += bounds[i][1] + '\\n'\r\n",
        "\r\n",
        "print(text)"
      ],
      "execution_count": 324,
      "outputs": [
        {
          "output_type": "stream",
          "text": [
            "गट क्रमांक व उपविभाग\n",
            "T पद्घती\n",
            "भोगवटादार वर्ग - २\n",
            "भुधारणा फ\n",
            "१०\n",
            "\n"
          ],
          "name": "stdout"
        }
      ]
    },
    {
      "cell_type": "code",
      "metadata": {
        "id": "Hb73FusSCXvr"
      },
      "source": [
        "with open('middle-header.txt', 'w', encoding='utf-8') as f:\r\n",
        "  f.write(text)"
      ],
      "execution_count": 325,
      "outputs": []
    },
    {
      "cell_type": "code",
      "metadata": {
        "id": "hbfSvc6OCe0P"
      },
      "source": [
        "contents = open(\"middle-header.txt\",\"r\")\r\n",
        "with open(\"middle-header.html\", \"w\") as e:\r\n",
        "    for lines in contents.readlines():\r\n",
        "        e.write(\"<pre>\" + lines + \"</pre> <br>\\n\")"
      ],
      "execution_count": 326,
      "outputs": []
    }
  ]
}